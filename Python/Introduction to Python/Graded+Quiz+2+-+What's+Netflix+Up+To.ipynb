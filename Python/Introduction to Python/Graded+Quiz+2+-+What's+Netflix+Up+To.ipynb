{
 "cells": [
  {
   "cell_type": "markdown",
   "metadata": {},
   "source": [
    "The `netflix` dictionary contains a list of 100 titles along with their total number of views in the past. Based on the keys and values provided in this dictionary, answer the questions given below."
   ]
  },
  {
   "cell_type": "code",
   "execution_count": 66,
   "metadata": {},
   "outputs": [],
   "source": [
    "netflix = {'The Debt Collector': 1821195, 'Act of Vengeance': 2804479, 'Paradise Lost': 2195477, \"Gerald's Game\": 3650626, 'Long Shot': 638440, 'Mak Cun': 1010311, 'Our Souls at Night': 3028705, 'Out of Thin Air': 2681938, \"Paul Hollywood's Big Continental Road Trip\": 230689, 'Satu Hari': 1012350, 'Monster High: Boo York, Boo York': 1526025, 'Cultivating the Seas: History and Future of the Full-Cycle Cultured Kindai Tuna': 2762103, 'Domino': 872663, 'TUNA GIRL': 2574816, '5CM': 2647713, 'Animal World': 220789, 'Hold the Dark': 2307432, 'Lessons from a School Shooting: Notes from Dunblane': 2419534, 'Made in Mexico': 3653712, 'Single': 239278, 'The 3rd Eye': 196138, 'The Sinking Of Van Der Wijck': 2831856, 'Two Catalonias': 1337119, 'Bobby Sands: 66 Days': 2005623, 'Bard of Blood': 744998, 'Deliha 2': 3638900, 'Dragons: Rescue Riders': 3241239, 'In the Shadow of the Moon': 1213329, 'Skylines': 1840094, 'Sturgill Simpson Presents Sound & Fury': 1915540, 'The Politician': 1019394, 'Weeds on Fire': 2273090, 'Much Loved': 3039852, 'Joseph: King of Dreams': 1734449, 'Malaal': 1926128, 'The Grandmaster': 2549410, 'The Inmate': 130965, 'The Hurricane Heist': 2191538, 'Def Comedy Jam 25': 1392697, 'Restless Creature: Wendy Whelan': 2474412, 'Print the Legend': 548250, 'Birders': 3478883, 'Furie': 2755115, 'Leap!': 1401638, 'Oh! Baby (Malayalam)': 839139, 'Oh! Baby (Tamil)': 2691505, 'USS Indianapolis: Men of Courage': 3286014, 'A Wrinkle in Time': 1258861, 'Teach Us All': 2428947, 'White Island': 1152905, 'Inside Man: Most Wanted': 2812661, 'Jeff Dunham: Beside Himself': 2930368, 'China Salesman': 3377292, 'Swearnet: The Movie': 949689, 'The Bar': 620655, 'Manmadhudu 2': 1842761, 'Team Kaylie': 359856, 'Under the Eiffel Tower': 2298237, 'Audrie & Daisy': 1573055, 'Iliza Shlesinger: Confirmed Kills': 365220, 'BONDING': 1664242, 'Do Paise Ki Dhoop Chaar Aane Ki Baarish': 2770879, '20 Feet From Stardom': 2931730, 'In Darkness': 3248749, 'Gaga: Five Foot Two': 3719550, 'The Bad Batch': 3656264, 'SMOSH: The Movie': 3697506, 'King of Boys': 584112, 'Merry Men: The Real Yoruba Demons': 2035595, \"Sarah's Key\": 1337902, 'The Wedding Party 2: Destination Dubai': 1471204, 'Vagabond': 1600432, 'Battlefish': 723021, 'DRAGON PILOT: Hisone & Masotan': 602919, 'Hilda': 54948, 'Maniac': 1348196, 'Quincy': 2601704, 'Rafinha Bastos: Ultimatum': 3469996, 'The Good Cop': 2265521, 'Between Two Ferns: The Movie': 3146508, 'Criminal: France': 2021409, 'Criminal: Germany': 658824, 'Criminal: Spain': 3078634, 'Criminal: UK': 2721398, 'Daddy Issues': 2119035, \"Inside Bill's Brain: Decoding Bill Gates\": 1755104, 'The Hockey Girls': 2000507, 'Travel Mates 2': 707260, 'True: Tricky Treat Day': 3213199, 'Two Sentence Horror Stories': 2438329, 'Mad World': 2281773, 'Mobile Suit Gundam UC': 778879, 'The Bund': 1729892, 'The First Line': 674591, 'Maynard': 84986, 'Monkey Twins': 3277179, 'Bitcoin Heist': 1450158, 'I Am Not Madame Bovary': 2763830, 'Vincent N Roxxy': 1961810, \"Chef's Table: France\": 2065738}"
   ]
  },
  {
   "cell_type": "code",
   "execution_count": 3,
   "metadata": {},
   "outputs": [
    {
     "name": "stdout",
     "output_type": "stream",
     "text": [
      "2770879\n"
     ]
    }
   ],
   "source": [
    "print(netflix['Do Paise Ki Dhoop Chaar Aane Ki Baarish'])"
   ]
  },
  {
   "cell_type": "code",
   "execution_count": 10,
   "metadata": {},
   "outputs": [
    {
     "name": "stdout",
     "output_type": "stream",
     "text": [
      "Gaga: Five Foot Two\n",
      "Hilda\n",
      "[1821195, 2804479, 2195477, 3650626, 638440, 1010311, 3028705, 2681938, 230689, 1012350, 1526025, 2762103, 872663, 2574816, 2647713, 220789, 2307432, 2419534, 3653712, 239278, 196138, 2831856, 1337119, 2005623, 744998, 3638900, 3241239, 1213329, 1840094, 1915540, 1019394, 2273090, 3039852, 1734449, 1926128, 2549410, 130965, 2191538, 1392697, 2474412, 548250, 3478883, 2755115, 1401638, 839139, 2691505, 3286014, 1258861, 2428947, 1152905, 2812661, 2930368, 3377292, 949689, 620655, 1842761, 359856, 2298237, 1573055, 365220, 1664242, 2770879, 2931730, 3248749, 3719550, 3656264, 3697506, 584112, 2035595, 1337902, 1471204, 1600432, 723021, 602919, 54948, 1348196, 2601704, 3469996, 2265521, 3146508, 2021409, 658824, 3078634, 2721398, 2119035, 1755104, 2000507, 707260, 3213199, 2438329, 2281773, 778879, 1729892, 674591, 84986, 3277179, 1450158, 2763830, 1961810, 2065738] max= 3719550 min= 54948 3719550\n",
      "54948\n"
     ]
    }
   ],
   "source": [
    "print(max(netflix, key = netflix.get))\n",
    "print(min(netflix, key = netflix.get))\n",
    "li = []\n",
    "for i in netflix.values():\n",
    "    li.append(i)\n",
    "print(li, \"max=\", max(li), \"min=\", min(li), end = \" \")\n",
    "print(netflix['Gaga: Five Foot Two'])\n",
    "print(netflix['Hilda'])"
   ]
  },
  {
   "cell_type": "markdown",
   "metadata": {},
   "source": [
    "#### Q1. There's an Indian movie in the dictionary named `Do Paise Ki Dhoop Chaar Aane Ki Baarish`. What is the number of views for this movie?\n",
    "- 90,854\n",
    "- 658,824\n",
    "- 1,023,597\n",
    "- 2,770,879"
   ]
  },
  {
   "cell_type": "markdown",
   "metadata": {},
   "source": [
    "#### Q2. Which of the shows is the most and least popular in terms of number of views? </br> \n",
    "(Hint: Use the `key` argument in the max() and min() functions.)\n",
    "- Monkey Twins, Maynard\n",
    "- Gaga: Five Foot Two, Hilda\n",
    "- Gerald's Game, White Island\n",
    "- Rafinha Bastos: Ultimatum, The First Line"
   ]
  },
  {
   "cell_type": "markdown",
   "metadata": {},
   "source": [
    "Netflix has just recieved the number of views for the last week as well. This data is given below, in the form of a dictionary"
   ]
  },
  {
   "cell_type": "code",
   "execution_count": 67,
   "metadata": {},
   "outputs": [],
   "source": [
    "netflix_last_week = {'The Debt Collector': 229218, 'Act of Vengeance': 191468, 'Paradise Lost': 167846, \"Gerald's Game\": 113298, 'Long Shot': 15190, 'Mak Cun': 244581, 'Our Souls at Night': 188095, 'Out of Thin Air': 183961, \"Paul Hollywood's Big Continental Road Trip\": 207967, 'Satu Hari': 226211, 'Monster High: Boo York, Boo York': 265919, 'Cultivating the Seas: History and Future of the Full-Cycle Cultured Kindai Tuna': 192246, 'Domino': 190538, 'TUNA GIRL': 301819, '5CM': 154371, 'Animal World': 228227, 'Hold the Dark': 222938, 'Lessons from a School Shooting: Notes from Dunblane': 256580, 'Made in Mexico': 199790, 'Single': 155517, 'The 3rd Eye': 251349, 'The Sinking Of Van Der Wijck': 153797, 'Two Catalonias': 189422, 'Bobby Sands: 66 Days': 202461, 'Bard of Blood': 241928, 'Deliha 2': 304552, 'Dragons: Rescue Riders': 155149, 'In the Shadow of the Moon': 222999, 'Skylines': 118737, 'Sturgill Simpson Presents Sound & Fury': 43590, 'The Politician': 11902, 'Weeds on Fire': 243382, 'Much Loved': 190123, 'Joseph: King of Dreams': 46104, 'Malaal': 70961, 'The Grandmaster': 44908, 'The Inmate': 19574, 'The Hurricane Heist': 167696, 'Def Comedy Jam 25': 208075, 'Restless Creature: Wendy Whelan': 22976, 'Print the Legend': 161584, 'Birders': 257668, 'Furie': 282266, 'Leap!': 124338, 'Oh! Baby (Malayalam)': 18203, 'Oh! Baby (Tamil)': 131481, 'USS Indianapolis: Men of Courage': 76558, 'A Wrinkle in Time': 169365, 'Teach Us All': 50378, 'White Island': 299779, 'Inside Man: Most Wanted': 123346, 'Jeff Dunham: Beside Himself': 283561, 'China Salesman': 182041, 'Swearnet: The Movie': 63809, 'The Bar': 41243, 'Manmadhudu 2': 261349, 'Team Kaylie': 101283, 'Under the Eiffel Tower': 83650, 'Audrie & Daisy': 106092, 'Iliza Shlesinger: Confirmed Kills': 255103, 'BONDING': 202683, 'Do Paise Ki Dhoop Chaar Aane Ki Baarish': 32329, '20 Feet From Stardom': 165178, 'In Darkness': 95259, 'Gaga: Five Foot Two': 36638, 'The Bad Batch': 197820, 'SMOSH: The Movie': 196519, 'King of Boys': 49332, 'Merry Men: The Real Yoruba Demons': 293229, \"Sarah's Key\": 178523, 'The Wedding Party 2: Destination Dubai': 51211, 'Vagabond': 116831, 'Battlefish': 5448, 'DRAGON PILOT: Hisone & Masotan': 281873, 'Hilda': 21348, 'Maniac': 268187, 'Quincy': 139696, 'Rafinha Bastos: Ultimatum': 105449, 'The Good Cop': 73230, 'Between Two Ferns: The Movie': 135600, 'Criminal: France': 243469, 'Criminal: Germany': 285211, 'Criminal: Spain': 45184, 'Criminal: UK': 117056, 'Daddy Issues': 267329, \"Inside Bill's Brain: Decoding Bill Gates\": 64083, 'The Hockey Girls': 114146, 'Travel Mates 2': 21088, 'True: Tricky Treat Day': 116504, 'Two Sentence Horror Stories': 274471, 'Mad World': 225244, 'Mobile Suit Gundam UC': 47306, 'The Bund': 146872, 'The First Line': 148861, 'Maynard': 87252, 'Monkey Twins': 199274, 'Bitcoin Heist': 41105, 'I Am Not Madame Bovary': 57841, 'Vincent N Roxxy': 207453, \"Chef's Table: France\": 200536}"
   ]
  },
  {
   "cell_type": "code",
   "execution_count": 68,
   "metadata": {},
   "outputs": [
    {
     "name": "stdout",
     "output_type": "stream",
     "text": [
      "{'The Debt Collector': 2050413, 'Act of Vengeance': 2995947, 'Paradise Lost': 2363323, \"Gerald's Game\": 3763924, 'Long Shot': 653630, 'Mak Cun': 1254892, 'Our Souls at Night': 3216800, 'Out of Thin Air': 2865899, \"Paul Hollywood's Big Continental Road Trip\": 438656, 'Satu Hari': 1238561, 'Monster High: Boo York, Boo York': 1791944, 'Cultivating the Seas: History and Future of the Full-Cycle Cultured Kindai Tuna': 2954349, 'Domino': 1063201, 'TUNA GIRL': 2876635, '5CM': 2802084, 'Animal World': 449016, 'Hold the Dark': 2530370, 'Lessons from a School Shooting: Notes from Dunblane': 2676114, 'Made in Mexico': 3853502, 'Single': 394795, 'The 3rd Eye': 447487, 'The Sinking Of Van Der Wijck': 2985653, 'Two Catalonias': 1526541, 'Bobby Sands: 66 Days': 2208084, 'Bard of Blood': 986926, 'Deliha 2': 3943452, 'Dragons: Rescue Riders': 3396388, 'In the Shadow of the Moon': 1436328, 'Skylines': 1958831, 'Sturgill Simpson Presents Sound & Fury': 1959130, 'The Politician': 1031296, 'Weeds on Fire': 2516472, 'Much Loved': 3229975, 'Joseph: King of Dreams': 1780553, 'Malaal': 1997089, 'The Grandmaster': 2594318, 'The Inmate': 150539, 'The Hurricane Heist': 2359234, 'Def Comedy Jam 25': 1600772, 'Restless Creature: Wendy Whelan': 2497388, 'Print the Legend': 709834, 'Birders': 3736551, 'Furie': 3037381, 'Leap!': 1525976, 'Oh! Baby (Malayalam)': 857342, 'Oh! Baby (Tamil)': 2822986, 'USS Indianapolis: Men of Courage': 3362572, 'A Wrinkle in Time': 1428226, 'Teach Us All': 2479325, 'White Island': 1452684, 'Inside Man: Most Wanted': 2936007, 'Jeff Dunham: Beside Himself': 3213929, 'China Salesman': 3559333, 'Swearnet: The Movie': 1013498, 'The Bar': 661898, 'Manmadhudu 2': 2104110, 'Team Kaylie': 461139, 'Under the Eiffel Tower': 2381887, 'Audrie & Daisy': 1679147, 'Iliza Shlesinger: Confirmed Kills': 620323, 'BONDING': 1866925, 'Do Paise Ki Dhoop Chaar Aane Ki Baarish': 2803208, '20 Feet From Stardom': 3096908, 'In Darkness': 3344008, 'Gaga: Five Foot Two': 3756188, 'The Bad Batch': 3854084, 'SMOSH: The Movie': 3894025, 'King of Boys': 633444, 'Merry Men: The Real Yoruba Demons': 2328824, \"Sarah's Key\": 1516425, 'The Wedding Party 2: Destination Dubai': 1522415, 'Vagabond': 1717263, 'Battlefish': 728469, 'DRAGON PILOT: Hisone & Masotan': 884792, 'Hilda': 76296, 'Maniac': 1616383, 'Quincy': 2741400, 'Rafinha Bastos: Ultimatum': 3575445, 'The Good Cop': 2338751, 'Between Two Ferns: The Movie': 3282108, 'Criminal: France': 2264878, 'Criminal: Germany': 944035, 'Criminal: Spain': 3123818, 'Criminal: UK': 2838454, 'Daddy Issues': 2386364, \"Inside Bill's Brain: Decoding Bill Gates\": 1819187, 'The Hockey Girls': 2114653, 'Travel Mates 2': 728348, 'True: Tricky Treat Day': 3329703, 'Two Sentence Horror Stories': 2712800, 'Mad World': 2507017, 'Mobile Suit Gundam UC': 826185, 'The Bund': 1876764, 'The First Line': 823452, 'Maynard': 172238, 'Monkey Twins': 3476453, 'Bitcoin Heist': 1491263, 'I Am Not Madame Bovary': 2821671, 'Vincent N Roxxy': 2169263, \"Chef's Table: France\": 2266274}\n",
      "Deliha 2\n",
      "3943452\n"
     ]
    }
   ],
   "source": [
    "for i in netflix_last_week:\n",
    "    if i in netflix:\n",
    "        ##print(i)\n",
    "        netflix[i] = netflix[i] + netflix_last_week[i]\n",
    "    else:\n",
    "        netflix[i].add(netflix_last_week[i])\n",
    "print(netflix)\n",
    "print(max(netflix, key = netflix.get))\n",
    "print(netflix['Deliha 2'])"
   ]
  },
  {
   "cell_type": "markdown",
   "metadata": {},
   "source": [
    "#### Q3. Netflix has just recieved the number of views for the last week as well. Add these views to the total views and find the most popular title in terms of views. Also find out how many views this title has? \n",
    "- Title: Deliha 2, Views: 3943452\n",
    "- Title: Dragons: Rescue Riders, Views: 3996388\n",
    "- Title: Rafinha Bastos: Ultimatum, Views: 3575445\n",
    "- Title: Gaga: Five Foot Two, Views: 3756188"
   ]
  },
  {
   "cell_type": "code",
   "execution_count": null,
   "metadata": {},
   "outputs": [],
   "source": []
  }
 ],
 "metadata": {
  "kernelspec": {
   "display_name": "Python 3",
   "language": "python",
   "name": "python3"
  },
  "language_info": {
   "codemirror_mode": {
    "name": "ipython",
    "version": 3
   },
   "file_extension": ".py",
   "mimetype": "text/x-python",
   "name": "python",
   "nbconvert_exporter": "python",
   "pygments_lexer": "ipython3",
   "version": "3.8.3"
  }
 },
 "nbformat": 4,
 "nbformat_minor": 2
}
