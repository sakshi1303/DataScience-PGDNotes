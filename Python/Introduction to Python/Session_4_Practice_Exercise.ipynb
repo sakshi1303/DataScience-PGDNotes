{
  "nbformat": 4,
  "nbformat_minor": 0,
  "metadata": {
    "kernelspec": {
      "display_name": "Python 3",
      "language": "python",
      "name": "python3"
    },
    "language_info": {
      "codemirror_mode": {
        "name": "ipython",
        "version": 3
      },
      "file_extension": ".py",
      "mimetype": "text/x-python",
      "name": "python",
      "nbconvert_exporter": "python",
      "pygments_lexer": "ipython3",
      "version": "3.7.4"
    },
    "colab": {
      "name": "Session 4 Practice Exercise1.ipynb",
      "provenance": []
    }
  },
  "cells": [
    {
      "cell_type": "markdown",
      "metadata": {
        "id": "pCvEoEa_hucz",
        "colab_type": "text"
      },
      "source": [
        "# Ice Cream Sundae - Ordering Menu"
      ]
    },
    {
      "cell_type": "markdown",
      "metadata": {
        "id": "1i7toKBxhuc0",
        "colab_type": "text"
      },
      "source": [
        "You are expected to build an interactive application to order ice cream Sundays in an ice-cream parlour.\n",
        "You are expected to use the concepts you learnt from the Object-Oriented programming session. The complete building process is divided into questions given below after you solve all the questions you will the complete ordering application.\n",
        "\n",
        "Let's get started!!\n"
      ]
    },
    {
      "cell_type": "markdown",
      "metadata": {
        "id": "0C_tgAnKhuc1",
        "colab_type": "text"
      },
      "source": [
        "### Question \n",
        "\n",
        "Declare a class \"ice_cream\". It needs to have the following constants and instance methods defined. \n",
        "\n",
        "1. Radius of a small scoop (r_small = 1.5)\n",
        "2. Radius of large scoop (r_large = 2.5)\n",
        "3. Value of pie (pi = 3.14)\n",
        "4. An instance method \"flavour\" - it should print enter your flavour.\n",
        "\n",
        "Given below is the example of a sample class and its methods and variables for reference:\n",
        "\n",
        "class chocolate:\n",
        "\n",
        "    chocolate_length=10\n",
        "    chocolate_breadth=2\n",
        "    \n",
        "    def area(self):\n",
        "        print(\"Enter your favourite chocolate\")"
      ]
    },
    {
      "cell_type": "code",
      "metadata": {
        "id": "GfLJzbqYhuc2",
        "colab_type": "code",
        "colab": {}
      },
      "source": [
        "# Declare class here:\n",
        "\n",
        "    # Declare class variables:\n",
        "    \n",
        "    # Declare instance methods:"
      ],
      "execution_count": null,
      "outputs": []
    },
    {
      "cell_type": "code",
      "metadata": {
        "id": "f0SQN8krhuc7",
        "colab_type": "code",
        "colab": {}
      },
      "source": [
        "# Call the class and function(s):"
      ],
      "execution_count": null,
      "outputs": []
    },
    {
      "cell_type": "markdown",
      "metadata": {
        "id": "0pbvDJyJhudA",
        "colab_type": "text"
      },
      "source": [
        "### Question\n",
        "\n",
        "Modify the class \"ice_cream\" to add a method which can calculate the cost of the Ice cream based on its size. \n",
        "\n",
        "Cost of ice cream is 0.5$ per unit volume. Take the input from the user about what size of ice cream scoops they want small or large. Based on that calculate the volume of the scoop and use the volume and the cost per volume to calculate the cost of ice cream. \n",
        "\n",
        "Hint: Declare a class similar to example above. Add new function that calculates the cost depending on the scope size. Use If-else statement to calculate ice-cream cost."
      ]
    },
    {
      "cell_type": "code",
      "metadata": {
        "id": "9eQxfZURhudA",
        "colab_type": "code",
        "colab": {}
      },
      "source": [
        "# Declare class here:\n",
        "\n",
        "    # Declare class variables:\n",
        "    \n",
        "    # Declare instance methods:"
      ],
      "execution_count": null,
      "outputs": []
    },
    {
      "cell_type": "code",
      "metadata": {
        "id": "mXEmGzKEhudF",
        "colab_type": "code",
        "colab": {}
      },
      "source": [
        "# Call the class and function(s):"
      ],
      "execution_count": null,
      "outputs": []
    },
    {
      "cell_type": "markdown",
      "metadata": {
        "id": "qUipR0SYhudL",
        "colab_type": "text"
      },
      "source": [
        "### Question \n",
        "\n",
        "In the above function find a way to round up the cost to the next integer value. \n",
        "\n",
        "Hint: In the same class as above, add a additional element to the cost variable that rounds up the cost to the next nearest integer.\n",
        "For example: if the cost is 10.41, the output should be 11$\n",
        "##### For rounding up an integer value you could use either the ceil() or round()"
      ]
    },
    {
      "cell_type": "code",
      "metadata": {
        "id": "o4DhKcNPhudM",
        "colab_type": "code",
        "colab": {}
      },
      "source": [
        "# Declare class here:\n",
        "\n",
        "    # Declare class variables:\n",
        "    \n",
        "    # Declare instance methods:"
      ],
      "execution_count": null,
      "outputs": []
    },
    {
      "cell_type": "code",
      "metadata": {
        "id": "2wq3zXBvhudP",
        "colab_type": "code",
        "colab": {}
      },
      "source": [
        "# Call the class and function(s):"
      ],
      "execution_count": null,
      "outputs": []
    },
    {
      "cell_type": "markdown",
      "metadata": {
        "id": "X-jaGJ0shudU",
        "colab_type": "text"
      },
      "source": [
        "### Question \n",
        "\n",
        "Modify the flavour function to give the options of available flavours and take as input the choice of the customer. \n",
        "\n",
        "The available options are Vanilla, Chocolate, Butterscotch, Blue_berry.\n",
        "\n",
        "Hint: Add a new function that asks the user to input the choice of flavour."
      ]
    },
    {
      "cell_type": "code",
      "metadata": {
        "id": "Jo1-46mahudV",
        "colab_type": "code",
        "colab": {}
      },
      "source": [
        "# Declare class here:\n",
        "\n",
        "    # Declare class variables:\n",
        "    \n",
        "    # Declare instance methods:"
      ],
      "execution_count": null,
      "outputs": []
    },
    {
      "cell_type": "code",
      "metadata": {
        "id": "BbIcQx5UhudY",
        "colab_type": "code",
        "colab": {}
      },
      "source": [
        "# Call the class and function(s):"
      ],
      "execution_count": null,
      "outputs": []
    },
    {
      "cell_type": "markdown",
      "metadata": {
        "id": "_36pklUZhudc",
        "colab_type": "text"
      },
      "source": [
        "### Question \n",
        "\n",
        "Build a new class called \"toppings\". It should have all the functionality of the ice_cream class.\n",
        "\n",
        "The toppings class will also have a method which will take as input the choice of toppings that the customer wants.\n",
        "The available choices of toppings are: Hot_fudge, Sprinkles, Caramel, Oreos, Nuts\n",
        "\n",
        "Hint: Create a new class that ask the user to choose one or more toppings"
      ]
    },
    {
      "cell_type": "code",
      "metadata": {
        "id": "5RwkG2vWhudd",
        "colab_type": "code",
        "colab": {}
      },
      "source": [
        "# Declare class here:\n",
        "\n",
        "    # Declare class variables:\n",
        "    \n",
        "    # Declare instance methods:"
      ],
      "execution_count": null,
      "outputs": []
    },
    {
      "cell_type": "code",
      "metadata": {
        "id": "sbLm1xbnhudk",
        "colab_type": "code",
        "colab": {}
      },
      "source": [
        "# Call the class and function(s):"
      ],
      "execution_count": null,
      "outputs": []
    },
    {
      "cell_type": "markdown",
      "metadata": {
        "id": "cKpJpxQMhudo",
        "colab_type": "text"
      },
      "source": [
        "### Question \n",
        "\n",
        "Add a method to calculate the cost of selected, toppings given the cost of each of the topping is 2$. \n",
        "\n",
        "Hint: Now in the class for toppings, add a function to calculate the cost per topping added."
      ]
    },
    {
      "cell_type": "code",
      "metadata": {
        "id": "Z-pQhpqzhudp",
        "colab_type": "code",
        "colab": {}
      },
      "source": [
        "# Declare class here:\n",
        "\n",
        "    # Declare class variables:\n",
        "    \n",
        "    # Declare instance methods:"
      ],
      "execution_count": null,
      "outputs": []
    },
    {
      "cell_type": "code",
      "metadata": {
        "id": "LXuemp0Lhuds",
        "colab_type": "code",
        "colab": {}
      },
      "source": [
        "# Call the class and function(s):"
      ],
      "execution_count": null,
      "outputs": []
    },
    {
      "cell_type": "markdown",
      "metadata": {
        "id": "TTTDsNTthudv",
        "colab_type": "text"
      },
      "source": [
        "### Question: \n",
        "Now you have all the functionality needed to create the ordering menu. \n",
        " \n",
        "1. An order can be for simply Ice Cream or an Ice Cream sundae. \n",
        "2. There can be multiple items in an order. \n",
        "3. Calculate the cost of each order placed.\n",
        "\n",
        "Hint: Club both the class you have created above and finally create an Ice-cream ordereing machine that display a welcome message: \"Welcome to  Ice Cream parlour\". Asks the user if he/she wants and ice cream or ice cream-sundae. Ask the choice of flavour and toppings and returns the total cost. Dont forget to ask if the user wants another item after he finishes ordering the first one!"
      ]
    },
    {
      "cell_type": "code",
      "metadata": {
        "id": "0R99hpmthudw",
        "colab_type": "code",
        "colab": {}
      },
      "source": [
        "import math\n",
        "# Declare class here:\n",
        "\n",
        "    # Declare class variables:\n",
        "    \n",
        "    # Declare instance methods:\n",
        "\n",
        "# Call the class and its functions:"
      ],
      "execution_count": null,
      "outputs": []
    },
    {
      "cell_type": "markdown",
      "metadata": {
        "id": "xm-KVss1h00g",
        "colab_type": "text"
      },
      "source": [
        "Great job! You have learned the skills to create a real-world application, in case of any doubts please feel free to put in up on the discussion forum or reach out to your TA(teaching assistant).\n",
        "####Happy Learning!!"
      ]
    }
  ]
}